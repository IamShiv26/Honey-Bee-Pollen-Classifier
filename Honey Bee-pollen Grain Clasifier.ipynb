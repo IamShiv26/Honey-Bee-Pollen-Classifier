{
 "cells": [
  {
   "cell_type": "markdown",
   "metadata": {},
   "source": [
    "# Load Data "
   ]
  },
  {
   "cell_type": "code",
   "execution_count": 1,
   "metadata": {
    "ExecuteTime": {
     "end_time": "2017-12-20T09:05:56.597567Z",
     "start_time": "2017-12-20T09:05:55.897309Z"
    }
   },
   "outputs": [],
   "source": [
    "import glob, os \n",
    "from skimage import io, transform\n",
    "import numpy as np\n",
    "import matplotlib.pyplot as plt\n",
    "import random"
   ]
  },
  {
   "cell_type": "code",
   "execution_count": 2,
   "metadata": {
    "ExecuteTime": {
     "end_time": "2017-12-20T09:05:33.129976Z",
     "start_time": "2017-12-20T09:05:33.120363Z"
    },
    "scrolled": true
   },
   "outputs": [],
   "source": [
    "path=\"images/\"\n",
    "imlist= glob.glob(os.path.join(path, '*.jpg'))"
   ]
  },
  {
   "cell_type": "code",
   "execution_count": 3,
   "metadata": {
    "ExecuteTime": {
     "end_time": "2017-12-20T09:06:52.138301Z",
     "start_time": "2017-12-20T09:06:52.114428Z"
    }
   },
   "outputs": [],
   "source": [
    "def dataset(file_list,size=(300,180),flattened=False):\n",
    "    no_train=500\n",
    "    no_test=len(file_list)-500\n",
    "    data_train = []\n",
    "    data_test = []\n",
    "    label_train=[]\n",
    "    label_test=[]\n",
    "    random.shuffle(file_list)\n",
    "    for i, file in enumerate(file_list):\n",
    "        image = io.imread(file)\n",
    "        image = transform.resize(image, size)\n",
    "        if flattened:\n",
    "            image = image.flatten()\n",
    "        \n",
    "        if(random.randint(1,10000)%2==0):\n",
    "            if(no_train>0):\n",
    "                data_train.append(image)\n",
    "                if(file[file.find('P')-1]=='N'):\n",
    "                    label_train.append(0)\n",
    "                else:\n",
    "                    label_train.append(1)\n",
    "                no_train-=1\n",
    "        else:\n",
    "            if(no_test>0):\n",
    "                data_test.append(image)\n",
    "                if(file[file.find('P')-1]=='N'):\n",
    "                    label_test.append(0)\n",
    "                else:\n",
    "                    label_test.append(1)\n",
    "                no_test-=1\n",
    "            else:\n",
    "                data_train.append(image)\n",
    "                if(file[file.find('P')-1]=='N'):\n",
    "                    label_train.append(0)\n",
    "                else:\n",
    "                    label_train.append(1)\n",
    "                no_train-=1\n",
    "        \n",
    "    print(file_list[0])\n",
    "\n",
    "    return np.array(data_train), np.array(label_train), np.array(data_test), np.array(label_test)"
   ]
  },
  {
   "cell_type": "code",
   "execution_count": 4,
   "metadata": {
    "ExecuteTime": {
     "end_time": "2017-12-20T09:06:54.869883Z",
     "start_time": "2017-12-20T09:06:52.748933Z"
    }
   },
   "outputs": [
    {
     "name": "stdout",
     "output_type": "stream",
     "text": [
      "images\\P60227-182r.jpg\n"
     ]
    }
   ],
   "source": [
    "# Load the dataset (may take a few seconds)\n",
    "X_train,y_train,X_test,y_test=dataset(imlist)"
   ]
  },
  {
   "cell_type": "code",
   "execution_count": 5,
   "metadata": {},
   "outputs": [
    {
     "name": "stdout",
     "output_type": "stream",
     "text": [
      "X-train:  (500, 300, 180, 3)\n",
      "y-train:  (500,)\n",
      "X-test:  (214, 300, 180, 3)\n",
      "y-test:  (214,)\n"
     ]
    }
   ],
   "source": [
    "# X has the following structure: X[imageid, y,x,channel]\n",
    "print('X-train: ',X_train.shape)  # data\n",
    "print('y-train: ',y_train.shape)  # target\n",
    "print('X-test: ',X_test.shape)\n",
    "print('y-test: ',y_test.shape)"
   ]
  },
  {
   "cell_type": "code",
   "execution_count": 6,
   "metadata": {},
   "outputs": [
    {
     "name": "stdout",
     "output_type": "stream",
     "text": [
      "Class 0(train):  248\n",
      "Class 1(train):  252\n",
      "Total  :  500\n"
     ]
    }
   ],
   "source": [
    "print('Class 0(train): ',sum(y_train==0))\n",
    "print('Class 1(train): ',sum(y_train==1))\n",
    "print('Total  : ',len(y_train))"
   ]
  },
  {
   "cell_type": "code",
   "execution_count": 7,
   "metadata": {
    "ExecuteTime": {
     "end_time": "2017-12-20T09:06:55.931451Z",
     "start_time": "2017-12-20T09:06:55.916546Z"
    }
   },
   "outputs": [],
   "source": [
    "%matplotlib inline "
   ]
  },
  {
   "cell_type": "code",
   "execution_count": 8,
   "metadata": {
    "ExecuteTime": {
     "end_time": "2017-12-20T09:06:56.656917Z",
     "start_time": "2017-12-20T09:06:56.365513Z"
    }
   },
   "outputs": [],
   "source": [
    "# fig, axes = plt.subplots(1,2)\n",
    "# k=0\n",
    "# plt.sca(axes[0])\n",
    "# plt.imshow(X[k])\n",
    "# plt.title('img {} - class {}'.format(k, y[k]))\n",
    "\n",
    "# k=400\n",
    "# plt.sca(axes[1])\n",
    "# plt.imshow(X[k])\n",
    "# plt.title('img {} - class {}'.format(k, y[k]));"
   ]
  },
  {
   "cell_type": "code",
   "execution_count": 9,
   "metadata": {},
   "outputs": [
    {
     "name": "stdout",
     "output_type": "stream",
     "text": [
      "train_x's shape: (162000, 500)\n",
      "test_x's shape: (162000, 214)\n"
     ]
    }
   ],
   "source": [
    "train_x_flatten = X_train.reshape(X_train.shape[0], -1).T   # The \"-1\" makes reshape flatten the remaining dimensions\n",
    "test_x_flatten = X_test.reshape(X_test.shape[0], -1).T\n",
    "\n",
    "# Standardize data to have feature values between 0 and 1.\n",
    "X_train = train_x_flatten\n",
    "X_test = test_x_flatten\n",
    "\n",
    "print (\"train_x's shape: \" + str(X_train.shape))\n",
    "print (\"test_x's shape: \" + str(X_test.shape))"
   ]
  },
  {
   "cell_type": "code",
   "execution_count": 10,
   "metadata": {},
   "outputs": [],
   "source": [
    "nx = 162000\n",
    "nh=7\n",
    "ny=1\n",
    "m=500"
   ]
  },
  {
   "cell_type": "code",
   "execution_count": 11,
   "metadata": {},
   "outputs": [],
   "source": [
    "W1 = np.random.randn(nh,nx) *0.01\n",
    "b1 = np.zeros((nh,1))\n",
    "W2 = np.random.randn(ny,nh) * 0.01\n",
    "b2 = np.zeros((ny,1))\n",
    "y_train = y_train.reshape(m,1)\n",
    "y_test = y_test.reshape(214,1)"
   ]
  },
  {
   "cell_type": "code",
   "execution_count": 12,
   "metadata": {},
   "outputs": [
    {
     "name": "stdout",
     "output_type": "stream",
     "text": [
      "(7, 162000)\n",
      "(1, 7)\n",
      "1\n"
     ]
    }
   ],
   "source": [
    "print(W1.shape)\n",
    "print(W2.shape)\n",
    "print(y_train[0][0])"
   ]
  },
  {
   "cell_type": "code",
   "execution_count": 13,
   "metadata": {},
   "outputs": [
    {
     "name": "stdout",
     "output_type": "stream",
     "text": [
      "Cost after  0  iterations :  0.6945195516064421\n",
      "Cost after  100  iterations :  0.6796311591792955\n",
      "Cost after  200  iterations :  0.5951629434179057\n",
      "Cost after  300  iterations :  0.5533779969625875\n",
      "Cost after  400  iterations :  0.4931277778815836\n",
      "Cost after  500  iterations :  0.44138545531795703\n",
      "Cost after  600  iterations :  0.3707908610263413\n",
      "Cost after  700  iterations :  0.38516464809094975\n",
      "Cost after  800  iterations :  0.39138769283389957\n",
      "Cost after  900  iterations :  0.3162362186695258\n",
      "Cost after  1000  iterations :  0.28793414519107313\n",
      "Cost after  1100  iterations :  0.2374071632926453\n",
      "Cost after  1200  iterations :  0.28237426199326854\n",
      "Cost after  1300  iterations :  0.21504408114225462\n",
      "Cost after  1400  iterations :  0.18051435856580184\n",
      "Cost after  1500  iterations :  0.18780171230178758\n",
      "Cost after  1600  iterations :  0.16753679635104304\n",
      "Cost after  1700  iterations :  0.16416039914200553\n",
      "Cost after  1800  iterations :  0.15429927360181142\n",
      "Cost after  1900  iterations :  0.14104509834352114\n",
      "Cost after  2000  iterations :  0.14344223639578552\n",
      "Cost after  2100  iterations :  0.14364682592026487\n",
      "Cost after  2200  iterations :  0.17772009757305957\n",
      "Cost after  2300  iterations :  0.20417194914173256\n",
      "Cost after  2400  iterations :  0.1250700992623\n",
      "Cost after  2500  iterations :  0.11563102573936343\n",
      "Cost after  2600  iterations :  0.10956094284150114\n",
      "Cost after  2700  iterations :  0.10504421744167819\n",
      "Cost after  2800  iterations :  0.10140834614305948\n",
      "Cost after  2900  iterations :  0.09833065278732173\n"
     ]
    }
   ],
   "source": [
    "num_iters=3000\n",
    "alpha = 0.0075\n",
    "for i in range(num_iters):\n",
    "    Z1 = np.matmul(W1,X_train) + b1\n",
    "    A1 = np.tanh(Z1)\n",
    "    Z2 = np.matmul(W2,A1) + b2\n",
    "    A2 = 1/(1+np.exp(-Z2))\n",
    "    J = - np.sum((y_train * np.log(np.transpose(A2)) + (1-y_train)*np.log(np.transpose(1-A2))))/m\n",
    "    dZ2 = A2 - np.transpose(y_train)\n",
    "    dW2 = np.matmul(dZ2,np.transpose(A1))/m\n",
    "    db2 = np.sum(dZ2,axis=1,keepdims=True)/m\n",
    "    dZ1 = np.matmul(np.transpose(W2),dZ2) * (1-(A1*A1))\n",
    "    dW1 = np.matmul(dZ1,np.transpose(X_train))/m\n",
    "    db1 = np.sum(dZ1,axis=1,keepdims=True)/m\n",
    "    \n",
    "    W1 = W1 - alpha*dW1\n",
    "    b1 = b1 - alpha*db1\n",
    "    W2 = W2 - alpha*dW2\n",
    "    b2 = b2 - alpha*db2\n",
    "    \n",
    "    if(i%100 == 0):\n",
    "        print(\"Cost after \",i,\" iterations : \",J)"
   ]
  },
  {
   "cell_type": "code",
   "execution_count": 14,
   "metadata": {},
   "outputs": [],
   "source": [
    "def forwardProp(X):\n",
    "    Z1 = np.matmul(W1,X) + b1\n",
    "    A1 = np.tanh(Z1)\n",
    "    Z2 = np.matmul(W2,A1) + b2\n",
    "    A2 = 1/(1+np.exp(-Z2))\n",
    "    return A2"
   ]
  },
  {
   "cell_type": "code",
   "execution_count": 20,
   "metadata": {},
   "outputs": [],
   "source": [
    "def predict(X):\n",
    "    A2 = forwardProp(X)\n",
    "    predictions = A2 > 0.5\n",
    "    return predictions"
   ]
  },
  {
   "cell_type": "code",
   "execution_count": 22,
   "metadata": {},
   "outputs": [
    {
     "name": "stdout",
     "output_type": "stream",
     "text": [
      "(1, 500)\n",
      "(500, 1)\n",
      "Test Accuracy: 95%\n"
     ]
    }
   ],
   "source": [
    "predictions = predict(X_train)\n",
    "print ('Train Accuracy: %d' % float((np.dot(predictions,y_train) + np.dot(1-predictions,1-y_train))/float(y_train.size)*100) + '%')"
   ]
  },
  {
   "cell_type": "code",
   "execution_count": 23,
   "metadata": {},
   "outputs": [
    {
     "name": "stdout",
     "output_type": "stream",
     "text": [
      "(214, 1)\n",
      "Test Accuracy: 86%\n"
     ]
    }
   ],
   "source": [
    "predictions = predict(X_test)\n",
    "y_test = y_test.reshape(y_test.size,1)\n",
    "print ('Test Accuracy: %d' % float((np.dot(predictions,y_test) + np.dot(1-predictions,1-y_test))/float(y_test.size)*100) + '%')"
   ]
  },
  {
   "cell_type": "code",
   "execution_count": null,
   "metadata": {},
   "outputs": [],
   "source": []
  }
 ],
 "metadata": {
  "kernelspec": {
   "display_name": "Python 3",
   "language": "python",
   "name": "python3"
  },
  "language_info": {
   "codemirror_mode": {
    "name": "ipython",
    "version": 3
   },
   "file_extension": ".py",
   "mimetype": "text/x-python",
   "name": "python",
   "nbconvert_exporter": "python",
   "pygments_lexer": "ipython3",
   "version": "3.6.4rc1"
  }
 },
 "nbformat": 4,
 "nbformat_minor": 2
}
